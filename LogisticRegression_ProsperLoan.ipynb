{
 "cells": [
  {
   "cell_type": "markdown",
   "metadata": {},
   "source": [
    "![title](afp-logo.png)"
   ]
  },
  {
   "cell_type": "markdown",
   "metadata": {},
   "source": [
    "# R and Data Science in Finance"
   ]
  },
  {
   "cell_type": "markdown",
   "metadata": {},
   "source": [
    "In this workbook, we will demonstrate how R and data science can benefit finance professionals. We will do so by showing how a logistic regression model built in R can be used to predict whether a loan will default.\n",
    "\n",
    "Before we go into building the model let's describe a popular process that is used to address data science problems in business. The process is known as CRISP-DM (Cross-Industry Process for Data Mining). In the process you start with getting understanding about the business problem then you gather the data you need to address the issue. After you collect the data, you cleanse and transform the data to get it ready for modeling. Next, you develop a model and then evaluate the model to see if the model is good enough to use. If it is you deploy the model to production.\n",
    "\n",
    "Please notice that many of the arrows are bi-directional. That is because you would often find yourself having to go back and forth between steps. For example, in the *Data Understanding* step, you may realize that it is not in line with what you thought in the *Business Understanding* step so you may need to go back to the *Business Understanding* step to get a better understanding of the problem."
   ]
  },
  {
   "cell_type": "markdown",
   "metadata": {},
   "source": [
    "![title](crispdm.jpg)"
   ]
  },
  {
   "cell_type": "markdown",
   "metadata": {},
   "source": [
    "So let's assume that we already went through the *Business Understanding* and *Data Understanding* phase. So we are going to use R to help us with the remaining steps. In the code below we will load the R packages that will be used to help us prepare and clean the data, build a model, then evaluate the model. "
   ]
  },
  {
   "cell_type": "code",
   "execution_count": 1,
   "metadata": {
    "scrolled": true
   },
   "outputs": [
    {
     "name": "stderr",
     "output_type": "stream",
     "text": [
      "-- Attaching packages --------------------------------------- tidyverse 1.2.1 --\n",
      "v ggplot2 2.2.1     v purrr   0.2.4\n",
      "v tibble  1.4.2     v dplyr   0.7.5\n",
      "v tidyr   0.8.1     v stringr 1.3.1\n",
      "v readr   1.1.1     v forcats 0.3.0\n",
      "-- Conflicts ------------------------------------------ tidyverse_conflicts() --\n",
      "x dplyr::filter() masks stats::filter()\n",
      "x dplyr::lag()    masks stats::lag()\n",
      "Loading required package: gplots\n",
      "\n",
      "Attaching package: 'gplots'\n",
      "\n",
      "The following object is masked from 'package:stats':\n",
      "\n",
      "    lowess\n",
      "\n",
      "\n",
      "Attaching package: 'scales'\n",
      "\n",
      "The following object is masked from 'package:purrr':\n",
      "\n",
      "    discard\n",
      "\n",
      "The following object is masked from 'package:readr':\n",
      "\n",
      "    col_factor\n",
      "\n"
     ]
    }
   ],
   "source": [
    "library(tidyverse)\n",
    "library(ROCR)\n",
    "library(scales)"
   ]
  },
  {
   "cell_type": "markdown",
   "metadata": {},
   "source": [
    "Next we load our data into R"
   ]
  },
  {
   "cell_type": "code",
   "execution_count": 2,
   "metadata": {},
   "outputs": [
    {
     "name": "stderr",
     "output_type": "stream",
     "text": [
      "Parsed with column specification:\n",
      "cols(\n",
      "  .default = col_integer(),\n",
      "  ListingKey = col_character(),\n",
      "  ListingCreationDate = col_datetime(format = \"\"),\n",
      "  CreditGrade = col_character(),\n",
      "  LoanStatus = col_character(),\n",
      "  ClosedDate = col_datetime(format = \"\"),\n",
      "  BorrowerAPR = col_double(),\n",
      "  BorrowerRate = col_double(),\n",
      "  LenderYield = col_double(),\n",
      "  EstimatedEffectiveYield = col_double(),\n",
      "  EstimatedLoss = col_double(),\n",
      "  EstimatedReturn = col_double(),\n",
      "  `ProsperRating (Alpha)` = col_character(),\n",
      "  BorrowerState = col_character(),\n",
      "  Occupation = col_character(),\n",
      "  EmploymentStatus = col_character(),\n",
      "  IsBorrowerHomeowner = col_logical(),\n",
      "  CurrentlyInGroup = col_logical(),\n",
      "  GroupKey = col_character(),\n",
      "  DateCreditPulled = col_datetime(format = \"\"),\n",
      "  FirstRecordedCreditLine = col_datetime(format = \"\")\n",
      "  # ... with 24 more columns\n",
      ")\n",
      "See spec(...) for full column specifications.\n"
     ]
    }
   ],
   "source": [
    "setwd(\"D:/OneDrive - Diesel Analytics/Professional/Clients/AFP\")\n",
    "prosperLoanData_Excerpt <- read_csv(\"prosperLoanData_Excerpt_Revised.csv\")"
   ]
  },
  {
   "cell_type": "markdown",
   "metadata": {},
   "source": [
    "Once we read in the data we transform the data for modeling. This transformation is known as *feature engineering*. In this section we will do transformation such as converting continuous data such as credit scores into categories of *Excellent, Good, Fair, Poor,* and *Bad*. We will apply similar transformation for Delinquencies, bankcard utilization, and other variables. "
   ]
  },
  {
   "cell_type": "code",
   "execution_count": 3,
   "metadata": {},
   "outputs": [],
   "source": [
    "prosper_data <-\n",
    "    prosperLoanData_Excerpt %>%\n",
    "    filter(!is.na(BankcardUtilization) & !is.na(CreditScoreRangeLower) & !is.na(CreditScoreRangeUpper) & !is.na(DelinquenciesLast7Years)) %>%\n",
    "    select(ListingKey, LoanStatus, IsBorrowerHomeowner, CreditScoreRangeLower, CreditScoreRangeUpper, \n",
    "           DelinquenciesLast7Years, BankcardUtilization, IncomeRange\n",
    "    ) %>%\n",
    "    mutate(\n",
    "        AvgScore = round((CreditScoreRangeLower + CreditScoreRangeUpper)/2,0),\n",
    "        CreditScoreCategory =\n",
    "            ifelse(AvgScore >= 750, \"Excellent\",\n",
    "            ifelse(AvgScore >= 700 & AvgScore <= 749, \"Good\",\n",
    "            ifelse(AvgScore >= 650 & AvgScore <= 699, \"Fair\",\n",
    "            ifelse(AvgScore >= 550 & AvgScore <= 649, \"Poor\",\n",
    "            ifelse(AvgScore < 550, \"Bad\", \n",
    "            ifelse(is.na(CreditScoreRangeLower) | is.na(CreditScoreRangeUpper),\"Unknown\",\"Unknown\")))))),\n",
    "        TerminalStatus = ifelse(LoanStatus == \"Completed\", 1,0),\n",
    "        DelinquencyCategory = \n",
    "            ifelse(DelinquenciesLast7Years <= 7, \"Good\",\n",
    "            ifelse(DelinquenciesLast7Years > 7 & DelinquenciesLast7Years <= 14, \"Ok\", \"Bad\")),\n",
    "        BankcardUtilizationCategory = ifelse(BankcardUtilization > 0.3, \"Bad\", \"Good\")\n",
    "    ) %>%\n",
    "    select(\n",
    "        ListingKey, IsBorrowerHomeowner, CreditScoreCategory, BankcardUtilizationCategory, \n",
    "        DelinquencyCategory, IncomeRange, TerminalStatus\n",
    "    ) %>%\n",
    "    mutate_all(factor)"
   ]
  },
  {
   "cell_type": "markdown",
   "metadata": {},
   "source": [
    "Next, we will split our data into two data sets. We will split our data into a training data set and testing data set using the code below. The training dataset will be used to train our model. We will check the model we built using the testing data set. We want to ensure that we are using an adequate amount of data to train our model, so we use a randomly chosen data set that represents 80% of our data in our training data set and the remainder in our testing data set."
   ]
  },
  {
   "cell_type": "code",
   "execution_count": 4,
   "metadata": {},
   "outputs": [],
   "source": [
    "prosper_traindata <- sample_frac(prosper_data, 0.8)\n",
    "prosper_testdata <- anti_join(prosper_data, prosper_traindata, by=c(\"ListingKey\", \"ListingKey\"))"
   ]
  },
  {
   "cell_type": "markdown",
   "metadata": {},
   "source": [
    "Below we define our logistic regression formula then we build the model. Note how we are able to do so with a relatively small amount of code."
   ]
  },
  {
   "cell_type": "code",
   "execution_count": 5,
   "metadata": {},
   "outputs": [],
   "source": [
    "PredictDefaultsFormula <-\n",
    "    as.formula(\n",
    "        \"TerminalStatus ~ \n",
    "            IsBorrowerHomeowner + CreditScoreCategory + BankcardUtilizationCategory + DelinquencyCategory + IncomeRange\"\n",
    "    )\n",
    "\n",
    "DefaultsModel <- glm(PredictDefaultsFormula, family = binomial, data = prosper_traindata)"
   ]
  },
  {
   "cell_type": "markdown",
   "metadata": {},
   "source": [
    "We use the summary function to evaluate the model. A critical piece of information that this output gives us is if the coefficients of our variable are significantly different than zero. We can do so in two ways. The first method we can use is by using the p-value of the coefficient via the \"Pr(>|z|)\" column. If the value in the column is less than 0.05, then it is statistically different from 0. We can also look at the number of \"\\*\" after the p-value score. If there are 1 or more \"\\*\" next to it, then we can conclude that it is statistically different then zero."
   ]
  },
  {
   "cell_type": "code",
   "execution_count": 6,
   "metadata": {},
   "outputs": [
    {
     "data": {
      "text/plain": [
       "\n",
       "Call:\n",
       "glm(formula = PredictDefaultsFormula, family = binomial, data = prosper_traindata)\n",
       "\n",
       "Deviance Residuals: \n",
       "    Min       1Q   Median       3Q      Max  \n",
       "-2.1652  -1.2935   0.6705   0.9700   1.6313  \n",
       "\n",
       "Coefficients:\n",
       "                                Estimate Std. Error z value Pr(>|z|)    \n",
       "(Intercept)                     -0.79529    0.13050  -6.094 1.10e-09 ***\n",
       "IsBorrowerHomeownerTRUE         -0.51559    0.03647 -14.138  < 2e-16 ***\n",
       "CreditScoreCategoryExcellent     2.15330    0.08697  24.759  < 2e-16 ***\n",
       "CreditScoreCategoryFair          1.14656    0.07524  15.239  < 2e-16 ***\n",
       "CreditScoreCategoryGood          1.53588    0.08302  18.499  < 2e-16 ***\n",
       "CreditScoreCategoryPoor          0.67937    0.07378   9.208  < 2e-16 ***\n",
       "BankcardUtilizationCategoryGood -0.03941    0.03867  -1.019 0.308074    \n",
       "DelinquencyCategoryGood          0.20309    0.05156   3.939 8.19e-05 ***\n",
       "DelinquencyCategoryOk            0.06759    0.07169   0.943 0.345789    \n",
       "IncomeRange$1-24,999             0.32662    0.11202   2.916 0.003549 ** \n",
       "IncomeRange$100,000+             0.39930    0.11472   3.481 0.000500 ***\n",
       "IncomeRange$25,000-49,999        0.38479    0.10533   3.653 0.000259 ***\n",
       "IncomeRange$50,000-74,999        0.47089    0.10685   4.407 1.05e-05 ***\n",
       "IncomeRange$75,000-99,999        0.43436    0.11299   3.844 0.000121 ***\n",
       "IncomeRangeNot displayed         0.45834    0.23537   1.947 0.051496 .  \n",
       "IncomeRangeNot employed          0.72157    0.22254   3.242 0.001185 ** \n",
       "---\n",
       "Signif. codes:  0 '***' 0.001 '**' 0.01 '*' 0.05 '.' 0.1 ' ' 1\n",
       "\n",
       "(Dispersion parameter for binomial family taken to be 1)\n",
       "\n",
       "    Null deviance: 23822  on 18681  degrees of freedom\n",
       "Residual deviance: 22558  on 18666  degrees of freedom\n",
       "AIC: 22590\n",
       "\n",
       "Number of Fisher Scoring iterations: 4\n"
      ]
     },
     "metadata": {},
     "output_type": "display_data"
    }
   ],
   "source": [
    "summary(DefaultsModel)"
   ]
  },
  {
   "cell_type": "markdown",
   "metadata": {},
   "source": [
    "Now that we evaluated the model we want to apply it against the test data that we held back. We do that in the code below via the predict function. We set the \"type\" argument to \"response\" so that the \"predict\" function will return a column of predicted probabilities that are in the same order of the data data that was passed to it. We assign those values a variable named \"PredictDefaults\". Next add that array of values as a column to the test data that we used. "
   ]
  },
  {
   "cell_type": "code",
   "execution_count": 7,
   "metadata": {},
   "outputs": [],
   "source": [
    "PredictDefaults <- predict(DefaultsModel, newdata = prosper_testdata, type = \"response\")\n",
    "prosper_testdata <- cbind(prosper_testdata, PredictDefaults)"
   ]
  },
  {
   "cell_type": "markdown",
   "metadata": {},
   "source": [
    "Finally we evaluate the model to test the model effectiveness using a ROC Curve analysis. We are concerned with the area under the curve. The minimum value that is acceptable is something north of 50% because since our outcome is binary we can guess 50% by flipping a coin. The AUC (Area Under the Curve) in our case is 66%. We need to determine if that is acceptable or not. If it is we will deploy the model. If it is not we will go back to a previous step to make changes until we get the model to perform at a level that is acceptable. "
   ]
  },
  {
   "cell_type": "code",
   "execution_count": 8,
   "metadata": {},
   "outputs": [],
   "source": [
    "perf.data <- prediction(prosper_testdata$PredictDefaults, prosper_testdata$TerminalStatus)\n",
    "perf <- performance(perf.data, measure = \"auc\")\n",
    "AUC_Stat <- round(as.numeric(perf@y.values),2)"
   ]
  },
  {
   "cell_type": "code",
   "execution_count": 9,
   "metadata": {},
   "outputs": [
    {
     "data": {
      "image/png": "[encoded data removed]",
      "text/plain": [
       "Plot with title \"Predict Loan Defaults ROC Analysis\""
      ]
     },
     "metadata": {},
     "output_type": "display_data"
    }
   ],
   "source": [
    "plot.data <- performance(perf.data, \"tpr\", \"fpr\")\n",
    "main_title <- \"Predict Loan Defaults ROC Analysis\"\n",
    "sub_title <- paste(\"The AUC statistic is\", percent(AUC_Stat), sep = \" \")\n",
    "plot(plot.data, main = main_title, sub = sub_title)\n",
    "abline(a = 0, b = 1)"
   ]
  }
 ],
 "metadata": {
  "kernelspec": {
   "display_name": "R",
   "language": "R",
   "name": "ir"
  },
  "language_info": {
   "codemirror_mode": "r",
   "file_extension": ".r",
   "mimetype": "text/x-r-source",
   "name": "R",
   "pygments_lexer": "r",
   "version": "3.5.0"
  }
 },
 "nbformat": 4,
 "nbformat_minor": 2
}
