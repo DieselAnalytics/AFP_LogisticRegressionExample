{
 "cells": [
  {
   "cell_type": "code",
   "execution_count": 1,
   "metadata": {},
   "outputs": [
    {
     "name": "stderr",
     "output_type": "stream",
     "text": [
      "-- Attaching packages --------------------------------------- tidyverse 1.2.1 --\n",
      "v ggplot2 2.2.1     v purrr   0.2.4\n",
      "v tibble  1.4.2     v dplyr   0.7.5\n",
      "v tidyr   0.8.1     v stringr 1.3.1\n",
      "v readr   1.1.1     v forcats 0.3.0\n",
      "-- Conflicts ------------------------------------------ tidyverse_conflicts() --\n",
      "x dplyr::filter() masks stats::filter()\n",
      "x dplyr::lag()    masks stats::lag()\n",
      "Loading required package: gplots\n",
      "\n",
      "Attaching package: 'gplots'\n",
      "\n",
      "The following object is masked from 'package:stats':\n",
      "\n",
      "    lowess\n",
      "\n"
     ]
    }
   ],
   "source": [
    "library(tidyverse)\n",
    "library(ROCR)"
   ]
  },
  {
   "cell_type": "markdown",
   "metadata": {},
   "source": [
    "setwd(\"D:/OneDrive - Diesel Analytics/Professional/Clients/FinanceOrganization\")\n",
    "library(tidyverse)\n",
    "library(lubridate)\n",
    "\n",
    "read_csv(\"prosperLoanData.csv\") %>%\n",
    "filter(LoanOriginationDate < ymd(20100101) & LoanStatus != \"Cancelled\") %>%\n",
    "write_csv(\"prosperLoanData_Excerpt.csv\")"
   ]
  },
  {
   "cell_type": "code",
   "execution_count": 2,
   "metadata": {},
   "outputs": [
    {
     "name": "stderr",
     "output_type": "stream",
     "text": [
      "Parsed with column specification:\n",
      "cols(\n",
      "  .default = col_integer(),\n",
      "  ListingKey = col_character(),\n",
      "  ListingCreationDate = col_datetime(format = \"\"),\n",
      "  CreditGrade = col_character(),\n",
      "  LoanStatus = col_character(),\n",
      "  ClosedDate = col_datetime(format = \"\"),\n",
      "  BorrowerAPR = col_double(),\n",
      "  BorrowerRate = col_double(),\n",
      "  LenderYield = col_double(),\n",
      "  EstimatedEffectiveYield = col_double(),\n",
      "  EstimatedLoss = col_double(),\n",
      "  EstimatedReturn = col_double(),\n",
      "  `ProsperRating (Alpha)` = col_character(),\n",
      "  BorrowerState = col_character(),\n",
      "  Occupation = col_character(),\n",
      "  EmploymentStatus = col_character(),\n",
      "  IsBorrowerHomeowner = col_logical(),\n",
      "  CurrentlyInGroup = col_logical(),\n",
      "  GroupKey = col_character(),\n",
      "  DateCreditPulled = col_datetime(format = \"\"),\n",
      "  FirstRecordedCreditLine = col_datetime(format = \"\")\n",
      "  # ... with 24 more columns\n",
      ")\n",
      "See spec(...) for full column specifications.\n"
     ]
    }
   ],
   "source": [
    "setwd(\"D:/OneDrive - Diesel Analytics/Professional/Clients/FinanceOrganization\")\n",
    "prosperLoanData_Excerpt <- read_csv(\"prosperLoanData_Excerpt_Revised.csv\")"
   ]
  },
  {
   "cell_type": "code",
   "execution_count": 3,
   "metadata": {},
   "outputs": [
    {
     "data": {
      "text/html": [
       "'D:/OneDrive - Diesel Analytics/Professional/Clients/FinanceOrganization'"
      ],
      "text/latex": [
       "'D:/OneDrive - Diesel Analytics/Professional/Clients/FinanceOrganization'"
      ],
      "text/markdown": [
       "'D:/OneDrive - Diesel Analytics/Professional/Clients/FinanceOrganization'"
      ],
      "text/plain": [
       "[1] \"D:/OneDrive - Diesel Analytics/Professional/Clients/FinanceOrganization\""
      ]
     },
     "metadata": {},
     "output_type": "display_data"
    }
   ],
   "source": [
    "df <- problems(prosperLoanData_Excerpt)\n",
    "write_csv(df,\"problems.csv\")\n",
    "getwd()"
   ]
  },
  {
   "cell_type": "code",
   "execution_count": 4,
   "metadata": {},
   "outputs": [],
   "source": [
    "prosper_data <-\n",
    "    prosperLoanData_Excerpt %>%\n",
    "    filter(!is.na(BankcardUtilization) & !is.na(CreditScoreRangeLower) & !is.na(CreditScoreRangeUpper) & !is.na(DelinquenciesLast7Years)) %>%\n",
    "    select(ListingKey, LoanStatus, IsBorrowerHomeowner, CreditScoreRangeLower, CreditScoreRangeUpper, \n",
    "           DelinquenciesLast7Years, BankcardUtilization, IncomeRange\n",
    "    ) %>%\n",
    "    mutate(\n",
    "        AvgScore = round((CreditScoreRangeLower + CreditScoreRangeUpper)/2,0),\n",
    "        CreditScoreCategory =\n",
    "            ifelse(AvgScore >= 750, \"Excellent\",\n",
    "            ifelse(AvgScore >= 700 & AvgScore <= 749, \"Good\",\n",
    "            ifelse(AvgScore >= 650 & AvgScore <= 699, \"Fair\",\n",
    "            ifelse(AvgScore >= 550 & AvgScore <= 649, \"Poor\",\n",
    "            ifelse(AvgScore < 550, \"Bad\", \n",
    "            ifelse(is.na(CreditScoreRangeLower) | is.na(CreditScoreRangeUpper),\"Unknown\",\"Unknown\")))))),\n",
    "        TerminalStatus = ifelse(LoanStatus == \"Completed\", 1,0),\n",
    "        DelinquencyCategory = \n",
    "            ifelse(DelinquenciesLast7Years <= 7, \"Good\",\n",
    "            ifelse(DelinquenciesLast7Years > 7 & DelinquenciesLast7Years <= 14, \"Ok\", \"Bad\")),\n",
    "        BankcardUtilizationCategory = ifelse(BankcardUtilization > 0.3, \"Bad\", \"Good\")\n",
    "    ) %>%\n",
    "    select(\n",
    "        ListingKey, IsBorrowerHomeowner, CreditScoreCategory, BankcardUtilizationCategory, \n",
    "        DelinquencyCategory, IncomeRange, TerminalStatus\n",
    "    ) %>%\n",
    "    mutate_all(factor)"
   ]
  },
  {
   "cell_type": "code",
   "execution_count": 5,
   "metadata": {},
   "outputs": [],
   "source": [
    "prosper_traindata <- sample_frac(prosper_data, 0.8)\n",
    "prosper_testdata <- anti_join(prosper_data, prosper_traindata, by=c(\"ListingKey\", \"ListingKey\"))"
   ]
  },
  {
   "cell_type": "code",
   "execution_count": 6,
   "metadata": {},
   "outputs": [],
   "source": [
    "PredictDefaultsFormula <-\n",
    "    as.formula(\n",
    "        \"TerminalStatus ~ \n",
    "            IsBorrowerHomeowner + CreditScoreCategory + BankcardUtilizationCategory + DelinquencyCategory + IncomeRange\"\n",
    "    )\n",
    "\n",
    "DefaultsModel <- glm(PredictDefaultsFormula, family = binomial, data = prosper_traindata)"
   ]
  },
  {
   "cell_type": "code",
   "execution_count": 7,
   "metadata": {},
   "outputs": [
    {
     "data": {
      "text/plain": [
       "\n",
       "Call:\n",
       "glm(formula = PredictDefaultsFormula, family = binomial, data = prosper_traindata)\n",
       "\n",
       "Deviance Residuals: \n",
       "    Min       1Q   Median       3Q      Max  \n",
       "-2.2464  -1.2847   0.6647   0.9641   1.6668  \n",
       "\n",
       "Coefficients:\n",
       "                                Estimate Std. Error z value Pr(>|z|)    \n",
       "(Intercept)                     -0.95269    0.12736  -7.480 7.43e-14 ***\n",
       "IsBorrowerHomeownerTRUE         -0.52168    0.03656 -14.270  < 2e-16 ***\n",
       "CreditScoreCategoryExcellent     2.27847    0.08749  26.044  < 2e-16 ***\n",
       "CreditScoreCategoryFair          1.21657    0.07548  16.117  < 2e-16 ***\n",
       "CreditScoreCategoryGood          1.60224    0.08319  19.260  < 2e-16 ***\n",
       "CreditScoreCategoryPoor          0.75055    0.07400  10.143  < 2e-16 ***\n",
       "BankcardUtilizationCategoryGood -0.06349    0.03878  -1.637   0.1016    \n",
       "DelinquencyCategoryGood          0.21026    0.05120   4.107 4.01e-05 ***\n",
       "DelinquencyCategoryOk            0.09995    0.07112   1.405   0.1599    \n",
       "IncomeRange$1-24,999             0.43559    0.10848   4.015 5.93e-05 ***\n",
       "IncomeRange$100,000+             0.44662    0.11106   4.021 5.79e-05 ***\n",
       "IncomeRange$25,000-49,999        0.45097    0.10125   4.454 8.44e-06 ***\n",
       "IncomeRange$50,000-74,999        0.57248    0.10290   5.564 2.64e-08 ***\n",
       "IncomeRange$75,000-99,999        0.49499    0.10872   4.553 5.29e-06 ***\n",
       "IncomeRangeNot displayed         0.49391    0.23790   2.076   0.0379 *  \n",
       "IncomeRangeNot employed          0.96708    0.22436   4.310 1.63e-05 ***\n",
       "---\n",
       "Signif. codes:  0 '***' 0.001 '**' 0.01 '*' 0.05 '.' 0.1 ' ' 1\n",
       "\n",
       "(Dispersion parameter for binomial family taken to be 1)\n",
       "\n",
       "    Null deviance: 23869  on 18681  degrees of freedom\n",
       "Residual deviance: 22526  on 18666  degrees of freedom\n",
       "AIC: 22558\n",
       "\n",
       "Number of Fisher Scoring iterations: 4\n"
      ]
     },
     "metadata": {},
     "output_type": "display_data"
    }
   ],
   "source": [
    "summary(DefaultsModel)"
   ]
  },
  {
   "cell_type": "code",
   "execution_count": 8,
   "metadata": {},
   "outputs": [],
   "source": [
    "PredictDefaults <- predict(DefaultsModel, newdata = prosper_testdata, type = \"response\")\n",
    "prosper_testdata <- cbind(prosper_testdata, PredictDefaults)"
   ]
  },
  {
   "cell_type": "code",
   "execution_count": 9,
   "metadata": {},
   "outputs": [],
   "source": [
    "perf.data <- prediction(prosper_testdata$PredictDefaults, prosper_testdata$TerminalStatus)\n",
    "perf <- performance(perf.data, measure = \"auc\")\n",
    "AUC_Stat <- round(as.numeric(perf@y.values),2)"
   ]
  },
  {
   "cell_type": "code",
   "execution_count": 10,
   "metadata": {},
   "outputs": [
    {
     "data": {
      "image/png": "[encoded data removed]",
      "text/plain": [
       "Plot with title \"Predict Loan Defaults ROC Analysis\""
      ]
     },
     "metadata": {},
     "output_type": "display_data"
    }
   ],
   "source": [
    "plot.data <- performance(perf.data, \"tpr\", \"fpr\")\n",
    "main_title <- \"Predict Loan Defaults ROC Analysis\"\n",
    "sub_title <- paste(\"The AUC statistic is\", AUC_Stat, sep = \" \")\n",
    "plot(plot.data, main = main_title, sub = sub_title)\n",
    "abline(a = 0, b = 1)"
   ]
  }
 ],
 "metadata": {
  "kernelspec": {
   "display_name": "R",
   "language": "R",
   "name": "ir"
  },
  "language_info": {
   "codemirror_mode": "r",
   "file_extension": ".r",
   "mimetype": "text/x-r-source",
   "name": "R",
   "pygments_lexer": "r",
   "version": "3.5.0"
  }
 },
 "nbformat": 4,
 "nbformat_minor": 2
}
