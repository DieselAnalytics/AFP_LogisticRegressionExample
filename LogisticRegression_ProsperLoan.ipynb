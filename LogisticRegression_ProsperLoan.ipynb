{
 "cells": [
  {
   "cell_type": "markdown",
   "metadata": {},
   "source": [
    "![title](afp-logo.png)"
   ]
  },
  {
   "cell_type": "markdown",
   "metadata": {},
   "source": [
    "# R and Data Science in Finance"
   ]
  },
  {
   "cell_type": "markdown",
   "metadata": {},
   "source": [
    "In this workbook, we will demonstrate how R and data science can benefit finance professionals. We will do so by showing how a logistic regression model built in R can be used to predict whether a loan will default.\n",
    "\n",
    "Before we go into building the model let's describe the successful process that is used to address data science problems in business. The process is known as CRISP-DM (Cross-Industry Process for Data Mining). In the process you start with getting understanding about the business problem then you gather the data you need to address the issue. After you collect the data, you cleanse and transform the data to get it ready for modeling. Next, you develop a model and then evaluate the model to see if the model is good enough to use. If it is you deploy the model to production.\n",
    "\n",
    "Please notice that arrows are bi-directional between many steps. That is because you would often find yourself having to go back and forth between steps. For example, in the *Data Understanding* step, you may realize that it is not in line with what you thought in the *Business Understanding* step so you may need to go back to the *Business Understanding* step to get a better understanding of the problem."
   ]
  },
  {
   "cell_type": "markdown",
   "metadata": {},
   "source": [
    "![title](crispdm.jpg)"
   ]
  },
  {
   "cell_type": "markdown",
   "metadata": {},
   "source": [
    "So let's assume that we already went through the *Business Understanding* and *Data Understanding* phase. So we are going to use R to help us with the remaining steps. In the code below we will load the R packages that will be used to help us prepare and clean the data, build a model, then evaluate the model. "
   ]
  },
  {
   "cell_type": "code",
   "execution_count": 1,
   "metadata": {
    "scrolled": true
   },
   "outputs": [
    {
     "name": "stderr",
     "output_type": "stream",
     "text": [
      "-- Attaching packages --------------------------------------- tidyverse 1.2.1 --\n",
      "v ggplot2 2.2.1     v purrr   0.2.4\n",
      "v tibble  1.4.2     v dplyr   0.7.5\n",
      "v tidyr   0.8.1     v stringr 1.3.1\n",
      "v readr   1.1.1     v forcats 0.3.0\n",
      "-- Conflicts ------------------------------------------ tidyverse_conflicts() --\n",
      "x dplyr::filter() masks stats::filter()\n",
      "x dplyr::lag()    masks stats::lag()\n",
      "Loading required package: gplots\n",
      "\n",
      "Attaching package: 'gplots'\n",
      "\n",
      "The following object is masked from 'package:stats':\n",
      "\n",
      "    lowess\n",
      "\n"
     ]
    }
   ],
   "source": [
    "library(tidyverse)\n",
    "library(ROCR)"
   ]
  },
  {
   "cell_type": "markdown",
   "metadata": {},
   "source": [
    "Next we load our data into R"
   ]
  },
  {
   "cell_type": "code",
   "execution_count": 2,
   "metadata": {},
   "outputs": [
    {
     "name": "stderr",
     "output_type": "stream",
     "text": [
      "Parsed with column specification:\n",
      "cols(\n",
      "  .default = col_integer(),\n",
      "  ListingKey = col_character(),\n",
      "  ListingCreationDate = col_datetime(format = \"\"),\n",
      "  CreditGrade = col_character(),\n",
      "  LoanStatus = col_character(),\n",
      "  ClosedDate = col_datetime(format = \"\"),\n",
      "  BorrowerAPR = col_double(),\n",
      "  BorrowerRate = col_double(),\n",
      "  LenderYield = col_double(),\n",
      "  EstimatedEffectiveYield = col_double(),\n",
      "  EstimatedLoss = col_double(),\n",
      "  EstimatedReturn = col_double(),\n",
      "  `ProsperRating (Alpha)` = col_character(),\n",
      "  BorrowerState = col_character(),\n",
      "  Occupation = col_character(),\n",
      "  EmploymentStatus = col_character(),\n",
      "  IsBorrowerHomeowner = col_logical(),\n",
      "  CurrentlyInGroup = col_logical(),\n",
      "  GroupKey = col_character(),\n",
      "  DateCreditPulled = col_datetime(format = \"\"),\n",
      "  FirstRecordedCreditLine = col_datetime(format = \"\")\n",
      "  # ... with 24 more columns\n",
      ")\n",
      "See spec(...) for full column specifications.\n"
     ]
    }
   ],
   "source": [
    "setwd(\"D:/OneDrive - Diesel Analytics/Professional/Clients/FinanceOrganization\")\n",
    "prosperLoanData_Excerpt <- read_csv(\"prosperLoanData_Excerpt_Revised.csv\")"
   ]
  },
  {
   "cell_type": "markdown",
   "metadata": {},
   "source": [
    "Once we read in the data we transform the data for modeling. This transformation is known as *feature engineering*. In this section we will do transformation such as converting continuous data such as credit scores into categories of *Excellent, Good, Fair, Poor,* and *Bad*. We will apply similar transformation for Delinquencies, bankcard utilization, and other variables. "
   ]
  },
  {
   "cell_type": "code",
   "execution_count": 4,
   "metadata": {},
   "outputs": [],
   "source": [
    "prosper_data <-\n",
    "    prosperLoanData_Excerpt %>%\n",
    "    filter(!is.na(BankcardUtilization) & !is.na(CreditScoreRangeLower) & !is.na(CreditScoreRangeUpper) & !is.na(DelinquenciesLast7Years)) %>%\n",
    "    select(ListingKey, LoanStatus, IsBorrowerHomeowner, CreditScoreRangeLower, CreditScoreRangeUpper, \n",
    "           DelinquenciesLast7Years, BankcardUtilization, IncomeRange\n",
    "    ) %>%\n",
    "    mutate(\n",
    "        AvgScore = round((CreditScoreRangeLower + CreditScoreRangeUpper)/2,0),\n",
    "        CreditScoreCategory =\n",
    "            ifelse(AvgScore >= 750, \"Excellent\",\n",
    "            ifelse(AvgScore >= 700 & AvgScore <= 749, \"Good\",\n",
    "            ifelse(AvgScore >= 650 & AvgScore <= 699, \"Fair\",\n",
    "            ifelse(AvgScore >= 550 & AvgScore <= 649, \"Poor\",\n",
    "            ifelse(AvgScore < 550, \"Bad\", \n",
    "            ifelse(is.na(CreditScoreRangeLower) | is.na(CreditScoreRangeUpper),\"Unknown\",\"Unknown\")))))),\n",
    "        TerminalStatus = ifelse(LoanStatus == \"Completed\", 1,0),\n",
    "        DelinquencyCategory = \n",
    "            ifelse(DelinquenciesLast7Years <= 7, \"Good\",\n",
    "            ifelse(DelinquenciesLast7Years > 7 & DelinquenciesLast7Years <= 14, \"Ok\", \"Bad\")),\n",
    "        BankcardUtilizationCategory = ifelse(BankcardUtilization > 0.3, \"Bad\", \"Good\")\n",
    "    ) %>%\n",
    "    select(\n",
    "        ListingKey, IsBorrowerHomeowner, CreditScoreCategory, BankcardUtilizationCategory, \n",
    "        DelinquencyCategory, IncomeRange, TerminalStatus\n",
    "    ) %>%\n",
    "    mutate_all(factor)"
   ]
  },
  {
   "cell_type": "markdown",
   "metadata": {},
   "source": [
    "Next, we will split our data into two data sets. We will split our data into a training data set and testing data set using the code below. The training dataset will be used to train our model. We will check the model we built using the testing data set. We want to ensure that we are using an adequate amount of data to train our model, so we use a randomly chosen data set that represents 80% of our data in our training data set and the remainder in our testing data set."
   ]
  },
  {
   "cell_type": "code",
   "execution_count": 5,
   "metadata": {},
   "outputs": [],
   "source": [
    "prosper_traindata <- sample_frac(prosper_data, 0.8)\n",
    "prosper_testdata <- anti_join(prosper_data, prosper_traindata, by=c(\"ListingKey\", \"ListingKey\"))"
   ]
  },
  {
   "cell_type": "markdown",
   "metadata": {},
   "source": [
    "Below we define our logistic regression formula then we build the model. Note how we are able to do so with a relatively small amount of code."
   ]
  },
  {
   "cell_type": "code",
   "execution_count": 6,
   "metadata": {},
   "outputs": [],
   "source": [
    "PredictDefaultsFormula <-\n",
    "    as.formula(\n",
    "        \"TerminalStatus ~ \n",
    "            IsBorrowerHomeowner + CreditScoreCategory + BankcardUtilizationCategory + DelinquencyCategory + IncomeRange\"\n",
    "    )\n",
    "\n",
    "DefaultsModel <- glm(PredictDefaultsFormula, family = binomial, data = prosper_traindata)"
   ]
  },
  {
   "cell_type": "markdown",
   "metadata": {},
   "source": [
    "We use the summary function to evaluate the model. A critical piece of information that this output gives us is if the coefficients of our variable are significantly different than zero. We can do so in two ways. The first method we can use is by using the p-value of the coefficient via the \"Pr(>|z|)\" column. If the value in the column is less than 0.05, then it is statistically different from 0. We can also look at the number of \"\\*\" after the p-value score. If there are 1 or more \"\\*\" next to it, then we can conclude that it is statistically different then zero."
   ]
  },
  {
   "cell_type": "code",
   "execution_count": 7,
   "metadata": {},
   "outputs": [
    {
     "data": {
      "text/plain": [
       "\n",
       "Call:\n",
       "glm(formula = PredictDefaultsFormula, family = binomial, data = prosper_traindata)\n",
       "\n",
       "Deviance Residuals: \n",
       "    Min       1Q   Median       3Q      Max  \n",
       "-2.1977  -1.2997   0.6772   0.9718   1.6203  \n",
       "\n",
       "Coefficients:\n",
       "                                Estimate Std. Error z value Pr(>|z|)    \n",
       "(Intercept)                     -0.74421    0.12916  -5.762 8.31e-09 ***\n",
       "IsBorrowerHomeownerTRUE         -0.52813    0.03641 -14.506  < 2e-16 ***\n",
       "CreditScoreCategoryExcellent     2.15283    0.08702  24.739  < 2e-16 ***\n",
       "CreditScoreCategoryFair          1.11553    0.07488  14.898  < 2e-16 ***\n",
       "CreditScoreCategoryGood          1.43833    0.08225  17.487  < 2e-16 ***\n",
       "CreditScoreCategoryPoor          0.65762    0.07328   8.974  < 2e-16 ***\n",
       "BankcardUtilizationCategoryGood -0.03170    0.03860  -0.821 0.411474    \n",
       "DelinquencyCategoryGood          0.18852    0.05150   3.661 0.000252 ***\n",
       "DelinquencyCategoryOk            0.07920    0.07169   1.105 0.269301    \n",
       "IncomeRange$1-24,999             0.30476    0.11062   2.755 0.005868 ** \n",
       "IncomeRange$100,000+             0.36954    0.11321   3.264 0.001098 ** \n",
       "IncomeRange$25,000-49,999        0.36681    0.10368   3.538 0.000403 ***\n",
       "IncomeRange$50,000-74,999        0.47332    0.10529   4.495 6.94e-06 ***\n",
       "IncomeRange$75,000-99,999        0.38885    0.11121   3.497 0.000471 ***\n",
       "IncomeRangeNot displayed         0.33138    0.23792   1.393 0.163671    \n",
       "IncomeRangeNot employed          0.75581    0.21953   3.443 0.000575 ***\n",
       "---\n",
       "Signif. codes:  0 '***' 0.001 '**' 0.01 '*' 0.05 '.' 0.1 ' ' 1\n",
       "\n",
       "(Dispersion parameter for binomial family taken to be 1)\n",
       "\n",
       "    Null deviance: 23918  on 18681  degrees of freedom\n",
       "Residual deviance: 22687  on 18666  degrees of freedom\n",
       "AIC: 22719\n",
       "\n",
       "Number of Fisher Scoring iterations: 4\n"
      ]
     },
     "metadata": {},
     "output_type": "display_data"
    }
   ],
   "source": [
    "summary(DefaultsModel)"
   ]
  },
  {
   "cell_type": "markdown",
   "metadata": {},
   "source": [
    "Now that we evaluated the model we want to apply it against the test data that we held back. We do that in the code below via the predict function. We set the \"type\" argument to \"response\" so that the \"predict\" function will return a column of predicted probabilities that are in the same order of the data data that was passed to it. We assign those values a variable named \"PredictDefaults\". Next add that array of values as a column to the test data that we used. "
   ]
  },
  {
   "cell_type": "code",
   "execution_count": 8,
   "metadata": {},
   "outputs": [],
   "source": [
    "PredictDefaults <- predict(DefaultsModel, newdata = prosper_testdata, type = \"response\")\n",
    "prosper_testdata <- cbind(prosper_testdata, PredictDefaults)"
   ]
  },
  {
   "cell_type": "markdown",
   "metadata": {},
   "source": [
    "Finally we evaluate the model to test the model effectiveness using a ROC Curve analysis. We are concerned with the area under the curve. The minimum value that is acceptable is something north of 50% because since our outcome is binary we can guess 50% by flipping a coin. The AUC (Area Under the Curve) in our case is 67%. We need to determine if that is acceptable or not. If it is we will deploy the model. If it is not we will go back to a previous step to make changes until we get the model to perform at a level that is acceptable. "
   ]
  },
  {
   "cell_type": "code",
   "execution_count": 9,
   "metadata": {},
   "outputs": [],
   "source": [
    "perf.data <- prediction(prosper_testdata$PredictDefaults, prosper_testdata$TerminalStatus)\n",
    "perf <- performance(perf.data, measure = \"auc\")\n",
    "AUC_Stat <- round(as.numeric(perf@y.values),2)"
   ]
  },
  {
   "cell_type": "code",
   "execution_count": 10,
   "metadata": {},
   "outputs": [
    {
     "data": {
      "image/png": "[encoded data removed]",
      "text/plain": [
       "Plot with title \"Predict Loan Defaults ROC Analysis\""
      ]
     },
     "metadata": {},
     "output_type": "display_data"
    }
   ],
   "source": [
    "plot.data <- performance(perf.data, \"tpr\", \"fpr\")\n",
    "main_title <- \"Predict Loan Defaults ROC Analysis\"\n",
    "sub_title <- paste(\"The AUC statistic is\", AUC_Stat, sep = \" \")\n",
    "plot(plot.data, main = main_title, sub = sub_title)\n",
    "abline(a = 0, b = 1)"
   ]
  }
 ],
 "metadata": {
  "kernelspec": {
   "display_name": "R",
   "language": "R",
   "name": "ir"
  },
  "language_info": {
   "codemirror_mode": "r",
   "file_extension": ".r",
   "mimetype": "text/x-r-source",
   "name": "R",
   "pygments_lexer": "r",
   "version": "3.5.0"
  }
 },
 "nbformat": 4,
 "nbformat_minor": 2
}
